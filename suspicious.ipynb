{
 "cells": [
  {
   "cell_type": "code",
   "execution_count": 1,
   "id": "7f65af24",
   "metadata": {},
   "outputs": [],
   "source": [
    "import pandas as pd\n",
    "import numpy as np"
   ]
  },
  {
   "cell_type": "code",
   "execution_count": 3,
   "id": "168a8d5e",
   "metadata": {},
   "outputs": [],
   "source": [
    "with open('words.txt') as f:\n",
    "    lines = f.readlines()"
   ]
  },
  {
   "cell_type": "code",
   "execution_count": 5,
   "id": "57630915",
   "metadata": {},
   "outputs": [
    {
     "name": "stdout",
     "output_type": "stream",
     "text": [
      "['Alcohol', 'Ayahuasca', 'Cannabis ', 'Central Nervous System Depressants ', 'Cocaine', 'GHB', 'Hallucinogens', 'Heroin', 'Inhalants', 'Ketamine', 'Khat', 'Kratom', 'LSD ', 'MDMA ', 'Mescaline ', 'Methamphetamine ', 'PCP ', 'Prescription Opioids ', 'Prescription Stimulants', 'Psilocybin', 'Rohypnol', 'Salvia', 'Steroids ', 'Synthetic Cannabinoids ', 'Synthetic Cathinones', 'Tobacc']\n"
     ]
    }
   ],
   "source": [
    "new_lst = [x[:-1] for x in lines]\n",
    "print(new_lst)"
   ]
  },
  {
   "cell_type": "code",
   "execution_count": 7,
   "id": "b9f677fd",
   "metadata": {},
   "outputs": [],
   "source": [
    "\n",
    "# Sample data\n",
    "data = {\n",
    "    \"id\": [1, 2, 3],\n",
    "    \"text\": [\n",
    "        \"Alcohol and Cannabis use is prohibited.\",\n",
    "        \"Synthetic Cannabinoids are harmful.\",\n",
    "        \"No mentions of drugs here.\"\n",
    "    ]\n",
    "}\n",
    "\n",
    "\n",
    "\n",
    "\n",
    "\n"
   ]
  },
  {
   "cell_type": "code",
   "execution_count": 9,
   "id": "09266d80-fc34-40c2-a00f-9c819b6073bc",
   "metadata": {},
   "outputs": [],
   "source": [
    "# Convert to DataFrame\n",
    "df = pd.DataFrame(data)\n",
    "\n",
    "# List of words to detect\n",
    "word_list = [\n",
    "    'Alcohol', 'Ayahuasca', 'Cannabis ', 'Central Nervous System Depressants ', 'Cocaine', 'GHB',\n",
    "    'Hallucinogens', 'Heroin', 'Inhalants', 'Ketamine', 'Khat', 'Kratom', 'LSD ', 'MDMA ', \n",
    "    'Mescaline ', 'Methamphetamine ', 'PCP ', 'Prescription Opioids ', 'Prescription Stimulants', \n",
    "    'Psilocybin', 'Rohypnol', 'Salvia', 'Steroids ', 'Synthetic Cannabinoids ', \n",
    "    'Synthetic Cathinones', 'Tobacc'\n",
    "]"
   ]
  },
  {
   "cell_type": "code",
   "execution_count": 11,
   "id": "c1b7f846-41e4-4a79-8cb1-6c79d77f9e02",
   "metadata": {},
   "outputs": [],
   "source": [
    "# Function to detect words in a text column\n",
    "def detect_words(text):\n",
    "    detected = [word.strip() for word in word_list if word.strip().lower() in text.lower()]\n",
    "    return detected if detected else None"
   ]
  },
  {
   "cell_type": "code",
   "execution_count": 13,
   "id": "dce02317-995c-4df0-a955-4c1baaf9998f",
   "metadata": {},
   "outputs": [
    {
     "name": "stdout",
     "output_type": "stream",
     "text": [
      "   id                                     text            detected_words\n",
      "0   1  Alcohol and Cannabis use is prohibited.       [Alcohol, Cannabis]\n",
      "1   2      Synthetic Cannabinoids are harmful.  [Synthetic Cannabinoids]\n",
      "2   3               No mentions of drugs here.                      None\n"
     ]
    }
   ],
   "source": [
    "# Apply the detection function to the DataFrame\n",
    "df['detected_words'] = df['text'].apply(detect_words)\n",
    "\n",
    "# Display the resulting DataFrame\n",
    "print(df)"
   ]
  },
  {
   "cell_type": "code",
   "execution_count": null,
   "id": "e59cefa6-43b4-4243-8c15-e550b1563593",
   "metadata": {},
   "outputs": [],
   "source": []
  }
 ],
 "metadata": {
  "kernelspec": {
   "display_name": "Python [conda env:base] *",
   "language": "python",
   "name": "conda-base-py"
  },
  "language_info": {
   "codemirror_mode": {
    "name": "ipython",
    "version": 3
   },
   "file_extension": ".py",
   "mimetype": "text/x-python",
   "name": "python",
   "nbconvert_exporter": "python",
   "pygments_lexer": "ipython3",
   "version": "3.12.7"
  }
 },
 "nbformat": 4,
 "nbformat_minor": 5
}
